{
 "cells": [
  {
   "cell_type": "markdown",
   "metadata": {},
   "source": [
    "Numerical analysis (or data analysis) is what Python is especially good at.  And it's possibly why you want to learn Python?  Now we will use a simple project to guide you.  Let's use Python to play music."
   ]
  },
  {
   "cell_type": "code",
   "execution_count": null,
   "metadata": {},
   "outputs": [],
   "source": [
    "# This cell sets up helpers for demonstration in the course.\n",
    "# Before the end of this session, you shouldn't take this as examples.\n",
    "\n",
    "%matplotlib inline\n",
    "\n",
    "# Import necessary modules.\n",
    "\n",
    "import os\n",
    "\n",
    "import numpy as np\n",
    "import matplotlib.pyplot as plt\n",
    "from IPython.display import display, Audio\n",
    "\n",
    "# Define constants.\n",
    "\n",
    "sampling_freq = 44100 # 44.1 kHz.\n",
    "\n",
    "# Define demonstrative helper functions.\n",
    "\n",
    "def time_data(duration, rate):\n",
    "    return np.linspace(0, duration, num=int(rate*duration))\n",
    "\n",
    "def sine_data(freq, time, damp=0):\n",
    "    data = 2**13 * np.sin(2*np.pi * freq * time)\n",
    "    if damp: # Remove gitters.\n",
    "        todamp = int(damp * sampling_freq)\n",
    "        darr = np.arange(todamp)/(todamp-1)\n",
    "        darr = np.sin(darr * np.pi / 2)\n",
    "        data[:todamp] *= darr\n",
    "        data[-todamp:] *= 1-darr\n",
    "    return data\n",
    "\n",
    "def note_freq(note):\n",
    "    \"\"\"Parse note symbol \"a4\", \"c4\", etc. and calculate frequency (in Hz).\"\"\"\n",
    "    if ' ' == note:\n",
    "        return 0.0\n",
    "    f0 = 440.0 # a4\n",
    "    note = note.lower()\n",
    "    diff = {'a': 0, 'b': 2, 'c': -9, 'd': -7, 'e': -5, 'f': -4, 'g': -2}[note[0]]\n",
    "    diff += {'#': 1, 'b': -1}.get(note[1], 0)\n",
    "    diff += 12 * (int(note[-1])-4)\n",
    "    return f0 * 2 ** (float(diff)/12)\n",
    "\n",
    "def play_notes(duration, *notes):\n",
    "    time = time_data(duration, sampling_freq)\n",
    "    alist = [sine_data(note_freq(n), time) for n in notes]\n",
    "    data = np.vstack(alist).sum(axis=0)\n",
    "    display(Audio(data.astype('int16'), rate=sampling_freq))\n",
    "    return time, data\n",
    "\n",
    "def play_numbered(numbered_notation, bpm=90):\n",
    "    note_map = {'0':' ', '1':'c4', '2':'d4', '3':'e4', '4':'f4', '5':'g4', '6':'a4', '7':'b4'}\n",
    "    beat_sec = 60.0 / bpm\n",
    "    signals = []\n",
    "    for it, num in enumerate(numbered_notation):\n",
    "        if num in '-._| ,':\n",
    "            continue\n",
    "        nbeat = 1.0\n",
    "        for ahead in numbered_notation[it+1:]:\n",
    "            if '-' == ahead:\n",
    "                nbeat += 1\n",
    "            elif '.' == ahead:\n",
    "                nbeat += 0.5\n",
    "            elif '_' == ahead:\n",
    "                nbeat /= 2\n",
    "            else:\n",
    "                break\n",
    "        time = time_data(beat_sec * nbeat, sampling_freq)\n",
    "        note = note_map[num]\n",
    "        freq = note_freq(note)\n",
    "        signal = sine_data(freq, time, damp=beat_sec*0.1)\n",
    "        signals.append(signal)\n",
    "    data = np.hstack(signals)\n",
    "    display(Audio(data.astype('int16'), rate=sampling_freq))"
   ]
  },
  {
   "cell_type": "markdown",
   "metadata": {},
   "source": [
    "Run the following cells.  They'll show you what the above code do."
   ]
  },
  {
   "cell_type": "code",
   "execution_count": null,
   "metadata": {},
   "outputs": [],
   "source": [
    "print(\"Play the C chord:\")\n",
    "time_point, data = play_notes(3, 'c4', 'e4', 'g4')\n",
    "\n",
    "print(\"Plot the first 1000 time points (around 25 ms):\")\n",
    "ret = plt.plot(time_point[0:1000], data[0:1000])"
   ]
  },
  {
   "cell_type": "code",
   "execution_count": null,
   "metadata": {},
   "outputs": [],
   "source": [
    "print(\"Twinkle Twinkle Little Star:\")\n",
    "play_numbered('1155|665-|4433|221-|5544|332-|5544|332-|1155|665-|4433|221-')\n",
    "\n",
    "print(\"Hänschen Klein:\")\n",
    "play_numbered('533-|422-|1234|555-|533-|422-|1355|3--0'\n",
    "              '2222|234-|3333|345-|533-|422-|1355|1--0')\n",
    "\n",
    "print(\"Hänschen Klein at 120 BPM:\")\n",
    "play_numbered('533-|422-|1234|555-|533-|422-|1355|3--0'\n",
    "              '2222|234-|3333|345-|533-|422-|1355|1--0', bpm=120)"
   ]
  },
  {
   "cell_type": "markdown",
   "metadata": {},
   "source": [
    "Now, step by step, we'll show you how we made Python sing."
   ]
  },
  {
   "cell_type": "markdown",
   "metadata": {},
   "source": [
    "# Variables\n",
    "\n",
    "# Tables and Arrays\n",
    "\n",
    "# Data Types\n",
    "\n",
    "# Containers"
   ]
  }
 ],
 "metadata": {
  "kernelspec": {
   "display_name": "Python 3",
   "language": "python",
   "name": "python3"
  },
  "language_info": {
   "codemirror_mode": {
    "name": "ipython",
    "version": 3
   },
   "file_extension": ".py",
   "mimetype": "text/x-python",
   "name": "python",
   "nbconvert_exporter": "python",
   "pygments_lexer": "ipython3",
   "version": "3.6.6+"
  }
 },
 "nbformat": 4,
 "nbformat_minor": 2
}
