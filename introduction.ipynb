{
 "cells": [
  {
   "cell_type": "markdown",
   "metadata": {},
   "source": [
    "# What Is Python"
   ]
  },
  {
   "cell_type": "markdown",
   "metadata": {},
   "source": [
    "Python is a programming language that has a broad range of applications.  It can be used to construct almost any kind of software.  It is also easy to write, to the point of being recognized as _executable pseudo code_.  Ease of use is probably the most superficial yet realistic description of Python.  It's why we should learn it."
   ]
  },
  {
   "cell_type": "markdown",
   "metadata": {},
   "source": [
    "## Libraries, Modules, and Packages"
   ]
  },
  {
   "cell_type": "markdown",
   "metadata": {},
   "source": [
    "It's the first point that a new programmer should establish: Writing computer code is more about using code that's already written by other people.  We do not create from null.  While coding, we will use many \"libraries\", which contains developed and verified code.  As we start, remember this.\n",
    "\n",
    "In Python, \"library\" is loosely defined.  You cannot find something really called a \"library\" in Python.  Instead, Python defines modules and packages that you may import.  When we say we use a library, in code we will import a module or a package.  The two constructs work similarly.  The major difference is that a package may contain other modules or packages (i.e., sub-modules and sub-packages), while a module doesn't.  Or you can say a module is flat, while a package is hierarchical.  No matter which you import, it always looks like:\n",
    "\n",
    "```python\n",
    "import something_either_a_module_or_a_package\n",
    "```"
   ]
  },
  {
   "cell_type": "markdown",
   "metadata": {},
   "source": [
    "In reality we never use such a verbose module name.  Python provides many useful libraries."
   ]
  },
  {
   "cell_type": "code",
   "execution_count": 5,
   "metadata": {},
   "outputs": [
    {
     "name": "stdout",
     "output_type": "stream",
     "text": [
      "2018-09-21 22:10:13.740028\n"
     ]
    }
   ],
   "source": [
    "import datetime                # Import a library.\n",
    "print(datetime.datetime.now()) # Print the current time."
   ]
  },
  {
   "cell_type": "markdown",
   "metadata": {},
   "source": [
    "The above code imports a module named `datetime` and shows the current time."
   ]
  },
  {
   "cell_type": "markdown",
   "metadata": {},
   "source": [
    "## What are Python Programs"
   ]
  },
  {
   "cell_type": "markdown",
   "metadata": {},
   "source": [
    "A Python program is some characters that can be executed by the Python interpreter.  Using that definition we can describe more concrete forms of a Python program.\n",
    "\n",
    "First is the \"code cells\" in this Jupyter notebook.  Jupyter is a system that allows you to run Python code.  We have already seen a code cell, which we used to print the current time above.\n",
    "\n",
    "The second form is a file that contains Python program code.  This could be the most versatile form.  We can make the file \"executable\" from a command-line \"terminal\", which we uses to send commands to computer.  By using this form, we can make the program to read data from various sources, and write to many places.\n",
    "\n",
    "The third form is a set of files that makes up a library.  When the features are complex enough, a single file is usualy insufficient to house all the code for a library.  Python allows us to break it into many files and put together a package.  For example, `numpy` is such a library.  Beneath the top-level namespace \"numpy\", there are many sub-modules or sub-packages, like `numpy.linalg` for linear-algebraic features, `numpy.fft` for fast-Fourier transform, etc.\n",
    "\n",
    "There are other forms, but basically the are derived from the three basic forms.  Web programs are ususually organized like a library, and invoked by a \"framework\" that is driven by a web server.  GUI (graphical-user interface) programs also needs a framework system of a different kind.  At this point, we shouldn't go into the detail, but it's good to know they exist."
   ]
  },
  {
   "cell_type": "markdown",
   "metadata": {},
   "source": [
    "This is a Python program file shown in an editor:\n",
    "\n",
    "![program file](progfile.png \"A Python Program File Shown in an Editor\")"
   ]
  },
  {
   "cell_type": "markdown",
   "metadata": {},
   "source": [
    "This is a web application.  A web application looks exactly like a web page:\n",
    "\n",
    "![web app](webapp.png \"A Web Application Looks Just Like a Web Page\")"
   ]
  },
  {
   "cell_type": "markdown",
   "metadata": {},
   "source": [
    "## Outline\n",
    "\n",
    "* Introduction\n",
    "  * What is Python?\n",
    "  * What are libraries, modules, and packages?\n",
    "  * What are Python programs?\n",
    "  * What can Python do?\n",
    "* Processing data\n",
    "  * Variables\n",
    "  * Tables and arrays\n",
    "  * Data types\n",
    "  * More containers\n",
    "* Looping\n",
    "* Logic flow: condition\n",
    "* String processing\n",
    "* Code structure: functions\n",
    "* Debugging: basics"
   ]
  }
 ],
 "metadata": {
  "kernelspec": {
   "display_name": "Python 3",
   "language": "python",
   "name": "python3"
  },
  "language_info": {
   "codemirror_mode": {
    "name": "ipython",
    "version": 3
   },
   "file_extension": ".py",
   "mimetype": "text/x-python",
   "name": "python",
   "nbconvert_exporter": "python",
   "pygments_lexer": "ipython3",
   "version": "3.6.6+"
  }
 },
 "nbformat": 4,
 "nbformat_minor": 2
}
